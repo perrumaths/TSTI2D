{
 "cells": [
  {
   "cell_type": "markdown",
   "metadata": {},
   "source": [
    "## Utilisation de l'interface\n",
    "Le texte qui suit est divisé en cellule. Certaines cellules contiennent du code Python. Ce code Python peut être modifié et exécuté.\n",
    "\n",
    "Pour modifier le code d'une cellule, il suffit de cliquer dans la cellule.\n",
    "\n",
    "**Pour exécuter le code d'une cellule, cliquer dans la cellule puis $\\boxed{Ctrl}$ + $\\boxed{Entr\\acute{e}e}$** (ou l'icone Exécuter)."
   ]
  },
  {
   "cell_type": "markdown",
   "metadata": {},
   "source": [
    "# Boucle « pour » : for"
   ]
  },
  {
   "cell_type": "code",
   "execution_count": 1,
   "metadata": {},
   "outputs": [
    {
     "name": "stdout",
     "output_type": "stream",
     "text": [
      "0\n",
      "1\n",
      "2\n",
      "3\n",
      "4\n",
      "5\n",
      "6\n",
      "7\n",
      "8\n",
      "9\n"
     ]
    }
   ],
   "source": [
    "for i in range(10):\n",
    "    print(i)"
   ]
  },
  {
   "cell_type": "markdown",
   "metadata": {},
   "source": [
    "La commande `print(i)` est exécuté pour toutes les valeurs de `i` allant de 0 à 9. Il y a 10 valeurs.\n",
    "\n",
    "### Exercice 1\n",
    "Remplacer `range(10)`, exécuter le code et bien observer le résultat dans les cas suivants :\n",
    "* On remplace `range(10)` par \n",
    "    * `range(6)`,\n",
    "    * `range(15)`.\n",
    "* On remplace `range(10)` par\n",
    "    * `range(0,10)`\n",
    "    * `range(3,10)`,\n",
    "    * `range(7,18)`.\n",
    "* On remplace `range(10)` par\n",
    "    * `range(0,10,1)`\n",
    "    * `range(0,10,2)`\n",
    "    * `range(0,10,3)`\n",
    "    * `range(13,30,5)`\n",
    "    \n",
    "**Attention** On ne peut utiliser que des valeurs entières. `range(0,10,0.5)` ou `range(2.5,10.5)` provoquent une erreur.\n",
    "    \n",
    "### Exercice 2\n",
    " Modifier le code pour qu'il écrive les listes de nombres suivantes :\n",
    " * 0, 1, 2, 3, 4, 5.\n",
    " * 4, 5, 6, 7.\n",
    " * 10, 11, 12, ... 20.\n",
    " * 10, 12, 14, ... 30.\n",
    " * 1, 4, 7, 10, ... 100."
   ]
  },
  {
   "cell_type": "markdown",
   "metadata": {},
   "source": [
    "# Boucle « tant que » : while"
   ]
  },
  {
   "cell_type": "code",
   "execution_count": 4,
   "metadata": {},
   "outputs": [
    {
     "name": "stdout",
     "output_type": "stream",
     "text": [
      "0\n",
      "1\n",
      "3\n",
      "7\n",
      "Valeur finale :  15\n"
     ]
    }
   ],
   "source": [
    "u = 0\n",
    "while u <= 10:\n",
    "    print(u)\n",
    "    u = 2*u + 1\n",
    "print(\"Valeur finale : \",u)"
   ]
  },
  {
   "cell_type": "markdown",
   "metadata": {},
   "source": [
    "Les commandes `print(u)` et `u = 2*u + 1` sont exécutées tant que `u <= 10`. Les premières valeurs affichées sont donc inférieures ou égales à 10.\n",
    "\n",
    "On sort de la boucle lorsque **la condition n'est plus vérifiée**. La valeur finale affichée est donc strictement supérieure à 10.\n",
    "### Exercice 3\n",
    "Modifier la condition pour que la valeur finale affichée soit la première valeur de `u` supérieure à 1000.\n",
    "### Exercice 4\n",
    "Ajouter un compteur `n` qui compte le nombre d'étapes nécessaires pour dépasser 1000.  \n",
    "Pour cela, il faut \n",
    "* initialiser le compteur à 0 : `n = 0`\n",
    "* augmenter le compteur de 1 à chaque tour de boucle : `n = n + 1`\n",
    "* afficher la valeur finale de `n` : `print(\"Nombre d'étapes : \",n)`\n",
    "\n",
    "Normalement, le nombre d'étapes est 10…"
   ]
  }
 ],
 "metadata": {
  "kernelspec": {
   "display_name": "Python 3",
   "language": "python",
   "name": "python3"
  },
  "language_info": {
   "codemirror_mode": {
    "name": "ipython",
    "version": 3
   },
   "file_extension": ".py",
   "mimetype": "text/x-python",
   "name": "python",
   "nbconvert_exporter": "python",
   "pygments_lexer": "ipython3",
   "version": "3.7.1"
  }
 },
 "nbformat": 4,
 "nbformat_minor": 2
}
