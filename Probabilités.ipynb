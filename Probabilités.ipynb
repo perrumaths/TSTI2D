{
 "cells": [
  {
   "cell_type": "markdown",
   "metadata": {},
   "source": [
    "## Utilisation de l'interface\n",
    "**$\\boxed{Ctrl}$ + $\\boxed{Entrée}$ pour exécuter le code et rester dans la cellule.**\n",
    "\n",
    "*On peut le répeter plusieurs fois pour voir le résultat d'une expérience aléatoire changer.*\n",
    "\n",
    "**$\\boxed{Maj}$ + $\\boxed{Entrée}$ pour exécuter le code et passer à la cellule suivante.**\n",
    "\n",
    "**Essayer de bien comprendre chaque cellule de code.**"
   ]
  },
  {
   "cell_type": "markdown",
   "metadata": {},
   "source": [
    "# Simulation de lancers de pièces\n",
    "\n",
    "L'objectif est de simuler un grand nombre de fois le lancers d'une pièce, et de compter le nombre de FACEs.\n",
    "## Fonction lancer : PILE ou FACE"
   ]
  },
  {
   "cell_type": "code",
   "execution_count": null,
   "metadata": {},
   "outputs": [],
   "source": [
    "from random import randint # Importe la fonction randint de la librairie random\n",
    "\n",
    "def lancer():              # La fonction n'a pas de paramètre. Elle renvoie le résultat d'un lancer de pièce.\n",
    "    if randint(0,1) == 0:  # randint (0,1) renvoie un entier aléatoire compris entre 0 et 1.\n",
    "        return 'PILE'\n",
    "    else:\n",
    "        return 'FACE'\n",
    "\n",
    "lancer()"
   ]
  },
  {
   "cell_type": "markdown",
   "metadata": {},
   "source": [
    "La fonction lancer est maintenant définie.\n",
    "## Fonction NombreFaces\n",
    "On peut executer la fonction lancer 20 fois :"
   ]
  },
  {
   "cell_type": "code",
   "execution_count": null,
   "metadata": {},
   "outputs": [],
   "source": [
    "for i in range (20):\n",
    "    print(lancer())"
   ]
  },
  {
   "cell_type": "markdown",
   "metadata": {},
   "source": [
    "On peut compter automatiquement le nombre de FACEs avec un compteur nombre qui vaut initialement 0 et augmente de 1 chaque fois qu'on tombe sur FACE :"
   ]
  },
  {
   "cell_type": "code",
   "execution_count": null,
   "metadata": {},
   "outputs": [],
   "source": [
    "nombre = 0\n",
    "for i in range(20):\n",
    "    if lancer() == 'FACE':\n",
    "        nombre = nombre + 1\n",
    "print(nombre)"
   ]
  },
  {
   "cell_type": "markdown",
   "metadata": {},
   "source": [
    "Finalement, on peut écrire une fonction qui renvoie le nombre de FACEs parmi $n$ lancers."
   ]
  },
  {
   "cell_type": "code",
   "execution_count": null,
   "metadata": {},
   "outputs": [],
   "source": [
    "def NombreFaces(n):                 # La fonction renvoie le nombre de FACEs parmi n tirages.\n",
    "    nombre = 0                      # le nombre initial de FACEs est 0\n",
    "    for i in range(n):              # L'entier n parcourt l'ensemble 0, 1, 2 … n-1.\n",
    "        if lancer() == 'FACE':      # Si le résultat du lancer est FACE…\n",
    "            nombre = nombre + 1     # … nombre augmente de 1\n",
    "    return nombre\n",
    "\n",
    "NombreFaces(20)                     # Ici, on execute 20 lancers"
   ]
  },
  {
   "cell_type": "markdown",
   "metadata": {},
   "source": [
    "**Question 1** Modifier le code précédent pour qu'il exécute 4 lancers.\n",
    "\n",
    "Répéter plusieurs fois l'expérience et repérer les fois où on obtient 4 FACEs."
   ]
  },
  {
   "cell_type": "markdown",
   "metadata": {},
   "source": [
    "On peut faire la répétition de façon automatique :"
   ]
  },
  {
   "cell_type": "code",
   "execution_count": null,
   "metadata": {},
   "outputs": [],
   "source": [
    "for i in range (400):\n",
    "    print(NombreFaces(4),end=' ')   # end = ' ' insère une espace et évite le passage à la ligne"
   ]
  },
  {
   "cell_type": "markdown",
   "metadata": {},
   "source": [
    "Compter le nombre de fois où on a obtenu 4 faces."
   ]
  },
  {
   "cell_type": "markdown",
   "metadata": {},
   "source": [
    "## Fonction NombreSucces\n",
    "**Question 2** Compléter la fonction suivante qui, sur 1000 expériences de 20 lancers, renvoie le nombre de fois où on n'a obtenu que des FACEs."
   ]
  },
  {
   "cell_type": "code",
   "execution_count": null,
   "metadata": {},
   "outputs": [],
   "source": [
    "def NombreSucces():\n",
    "    nombre =                                    # LIGNE À COMPLÉTER\n",
    "    for i in range(1000):\n",
    "        if NombreFaces(20) == 20:\n",
    "            nombre =                            # LIGNE À COMPLÉTER  \n",
    "    return nombre\n",
    "\n",
    "NombreSucces()"
   ]
  },
  {
   "cell_type": "markdown",
   "metadata": {},
   "source": [
    "**Question 3** Modifier la fonction précédente de façon à ce qu'elle renvoie le nombre de succes sur 835000 expériences.\n",
    "\n",
    "Attention : l'exécution de cette fonction peut durer plusieurs secondes.\n",
    "\n",
    "Noter le résultat et comparer avec les autres.\n"
   ]
  },
  {
   "cell_type": "markdown",
   "metadata": {},
   "source": [
    "# Simulation de tirs au but\n",
    "\n",
    "On va simuler une séance de tirs au but.\n",
    "\n",
    "Au premier tir, la probabilité que le gardien arrête le tir est 0,3.\n",
    "Ensuite, la probabilité est \n",
    "- 0,5 si le gardien a arrêté le tir précédent,\n",
    "- 0,2 si le gardien n'a pas arrêté le tir précédent.\n",
    "\n",
    "On va utiliser des listes Python pour donner le résultat d'une séance de $n$ tirs. Si le gardien n'arrête pas le tir, on notera $0$, si le gardien arrête le tir, on notera $1$.\n",
    "\n",
    "## Utilisation de la fonction random\n",
    "On utilise la fonction random qui renvoie un nombre aléatoire compris entre 0 et 1."
   ]
  },
  {
   "cell_type": "code",
   "execution_count": null,
   "metadata": {},
   "outputs": [],
   "source": [
    "# Exemple d'utilisation de la fonction random\n",
    "from random import random\n",
    "\n",
    "for i in range(10):\n",
    "    print(random())"
   ]
  },
  {
   "cell_type": "code",
   "execution_count": null,
   "metadata": {},
   "outputs": [],
   "source": [
    "# Un autre exemple : 'oui' avec une probabilité 0,7 et non avec une probabilité 0,3.\n",
    "from random import random\n",
    "\n",
    "for i in range(10):\n",
    "    if random() <= 0.7:       # Si le nombre aléatoire est compris entre 0 et 0,7\n",
    "        print('oui')\n",
    "    else:                     # Sinon\n",
    "        print('non')"
   ]
  },
  {
   "cell_type": "markdown",
   "metadata": {},
   "source": [
    "## Utilisation d'une liste\n",
    "On va utiliser des listes Python pour donner le résultat d'une séance de 𝑛 tirs.\n",
    "\n",
    "Si le gardien n'arrête pas le tir, on notera 0, si le gardien arrête le tir, on notera 1."
   ]
  },
  {
   "cell_type": "code",
   "execution_count": null,
   "metadata": {},
   "outputs": [],
   "source": [
    "# Exemple d'utilisation d'une liste\n",
    "L = [2,5,8]\n",
    "print(L)\n",
    "L = L + [7]\n",
    "print(L)\n",
    "L = L + [24]\n",
    "print(L)\n",
    "print(L[0]) # L[0] est l'élément numéro 0 de la liste (donc le premier)\n",
    "print(L[4]) # L[4] est l'élément numéro 4 de la liste (donc le cinquième)"
   ]
  },
  {
   "cell_type": "markdown",
   "metadata": {},
   "source": [
    "**Question 4** Compléter la fonction suivante, qui prend en paramètre le résultat du tir précédent, et retourne le résultat du tir avec la bonne probabilité."
   ]
  },
  {
   "cell_type": "code",
   "execution_count": null,
   "metadata": {
    "scrolled": true
   },
   "outputs": [],
   "source": [
    "from random import random\n",
    "\n",
    "def ResultatTir(ResultatPrecedent):\n",
    "    if ResultatPrecedent == 0:\n",
    "        if random() <= ???:                            # LIGNE À COMPLÉTER\n",
    "            return 1\n",
    "        else:\n",
    "            return 0\n",
    "    else:\n",
    "        if random() <= ???:                            # LIGNE À COMPLÉTER\n",
    "            return 1\n",
    "        else:\n",
    "            return 0\n",
    "\n",
    "print ('Si le résultat du tir précédent est 0 :')\n",
    "for i in range (100):\n",
    "    print (ResultatTir(0),end='')    # Remarque : end='' sert à éviter le passage à la ligne\n",
    "print ('')\n",
    "print ('Si le résultat du tir précédent est 1 :')\n",
    "for i in range (100):\n",
    "    print (ResultatTir(1),end='')\n"
   ]
  },
  {
   "cell_type": "markdown",
   "metadata": {},
   "source": [
    "## Simulation d'une séance complète\n",
    "La fonction suivante donne le résultat d'une séance de $n$ tirs, sous forme de liste."
   ]
  },
  {
   "cell_type": "code",
   "execution_count": null,
   "metadata": {},
   "outputs": [],
   "source": [
    "def seance(n):\n",
    "    if random()<=0.3:\n",
    "        resultat = 1\n",
    "    else:\n",
    "        resultat = 0\n",
    "    liste = [resultat]\n",
    "    for i in range(n-1):\n",
    "        resultat = ResultatTir(resultat)\n",
    "        liste = liste + [resultat]\n",
    "    return liste\n",
    "\n",
    "seance(20)"
   ]
  },
  {
   "cell_type": "markdown",
   "metadata": {},
   "source": [
    "On peut simuler 1000 séances de 20 tirs au but, et compter le nombre de fois où le premier tir de la séance est arrêté :"
   ]
  },
  {
   "cell_type": "code",
   "execution_count": null,
   "metadata": {},
   "outputs": [],
   "source": [
    "nombre = 0\n",
    "for i in range(1000):\n",
    "    L = seance(20)\n",
    "    if L[0] == 1:\n",
    "        nombre = nombre + 1\n",
    "print(nombre)"
   ]
  },
  {
   "cell_type": "markdown",
   "metadata": {},
   "source": [
    "Répeter plusieurs fois cette simulation. On constate que le nombre de premiers tirs arrêtés est proche de 300.\n",
    "\n",
    "**Question 5** Modifier le code précédent pour qu'il simule 10000 séances de 50 tirs au but, et compte le nombre de fois où le 50e tir est arrêté.\n",
    "\n",
    "Répeter plusieurs fois cette simulation. De quel nombre le résultat semble-t-il proche ?"
   ]
  }
 ],
 "metadata": {
  "kernelspec": {
   "display_name": "Python 3",
   "language": "python",
   "name": "python3"
  },
  "language_info": {
   "codemirror_mode": {
    "name": "ipython",
    "version": 3
   },
   "file_extension": ".py",
   "mimetype": "text/x-python",
   "name": "python",
   "nbconvert_exporter": "python",
   "pygments_lexer": "ipython3",
   "version": "3.7.1"
  }
 },
 "nbformat": 4,
 "nbformat_minor": 2
}
