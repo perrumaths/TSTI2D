{
 "cells": [
  {
   "cell_type": "markdown",
   "metadata": {},
   "source": [
    "# Encadrement d'une intégrale\n",
    "\n",
    "Soit $f$ la fonction définie, sur $\\left]0\\,;+\\infty\\right[$ par $f(t)=\\ln(t)+1$.\n",
    "\n",
    "## 1. Définition d'une fonction\n",
    "\n",
    "On peut définir une fonction Python qui renvoie la valeur de $f(x)$ en fonction de $x$.\n",
    "\n",
    "Il faut simplement importer la fonction `log` de la bibliothèque `math`, ce qui correspond à la fonction $\\ln$. \n",
    "\n",
    "**Executer le code suivant.**"
   ]
  },
  {
   "cell_type": "code",
   "execution_count": null,
   "metadata": {},
   "outputs": [],
   "source": [
    "from math import log\n",
    "\n",
    "def f(x):\n",
    "    return log(x)+1\n",
    "\n",
    "print(f(1))\n",
    "print(f(2))\n",
    "print(f(3))"
   ]
  },
  {
   "cell_type": "markdown",
   "metadata": {},
   "source": [
    "## 2. Présentation du problème\n",
    "\n",
    "On cherche à donner un encadrement de l'intégrale $\\displaystyle A=\\int_1^3 f(t)\\textrm{d}t$, c'est-à-dire de l'aire représentée ci-dessous.\n",
    "\n",
    "![Courbe représentative de f](Int1.png)\n",
    "\n",
    "(Double cliquer dans la cellule suivante. Ctrl + Entrée pour valider)"
   ]
  },
  {
   "cell_type": "markdown",
   "metadata": {},
   "source": [
    "**Question 1** Proposer un encadrememt de $A$ par deux entiers consécutifs. L'aire est comprise entre ? et ?."
   ]
  },
  {
   "cell_type": "markdown",
   "metadata": {},
   "source": [
    "## 3. Minoration en utilisant des rectangles\n",
    "\n",
    "On admet que la fonction $f$ est croissante sur $\\left]0\\,;+\\infty\\right[$.\n",
    "\n",
    "On admet que l'aire $A$ est **supérieure** à l'aire des cinq rectangles représentés ci-dessous.\n",
    "\n",
    "![Minoration](Int2.png)"
   ]
  },
  {
   "cell_type": "markdown",
   "metadata": {},
   "source": [
    "**Question 2** Quelle est la largeur de chaque rectangle ? La largeur est : "
   ]
  },
  {
   "cell_type": "markdown",
   "metadata": {},
   "source": [
    "**Question 3** Quelle est la hauteur du premier rectangle ? La hauteur est : \n",
    "\n",
    "Quelle est la hauteur du deuxième rectangle ? La hauteur est :"
   ]
  },
  {
   "cell_type": "markdown",
   "metadata": {},
   "source": [
    "**Question 4** Modifier le code suivant pour qu'il affiche la _hauteur_ des cinq rectangles :"
   ]
  },
  {
   "cell_type": "code",
   "execution_count": null,
   "metadata": {},
   "outputs": [],
   "source": [
    "for i in range (5):\n",
    "    x = 1 + i*0.4\n",
    "    print(x)                    # Ligne à modifier"
   ]
  },
  {
   "cell_type": "markdown",
   "metadata": {},
   "source": [
    "**Question 5** Modifier le code suivant pour qu'il affiche l'aire des cinq rectangles (c'est-à-dire la largeur multipliée par la hauteur)."
   ]
  },
  {
   "cell_type": "code",
   "execution_count": null,
   "metadata": {},
   "outputs": [],
   "source": [
    "for i in range (5):\n",
    "    x = 1 + i*0.4\n",
    "    print(x)                    # Ligne à modifier"
   ]
  },
  {
   "cell_type": "markdown",
   "metadata": {},
   "source": [
    "On utilise une variable `S` qui va automatiquement compter la somme des aires des rectangles.\n",
    "\n",
    "On initialise `S` à $0$, puis on ajoute à `S` l'aire de chaque rectangle.\n",
    "\n",
    "**Question 6** Compléter le code suivant pour que l'aire de chaque rectangle soit ajoutée à `S`"
   ]
  },
  {
   "cell_type": "code",
   "execution_count": null,
   "metadata": {},
   "outputs": [],
   "source": [
    "S = 0\n",
    "for i in range(5):\n",
    "    x = 1 + i*0,4\n",
    "    S = S +                      # Ligne à compléter\n",
    "print(S)"
   ]
  },
  {
   "cell_type": "markdown",
   "metadata": {},
   "source": [
    "**Question 7** Que peut-on en déduire pour l'aire $A$ ? L'aire $A$ est supérieure à ?"
   ]
  },
  {
   "cell_type": "markdown",
   "metadata": {},
   "source": [
    "On veut faire le même calcul avec 10 rectangles, comme dans la figure ci-dessous.\n",
    "\n",
    "![Minoration](Int4.png)"
   ]
  },
  {
   "cell_type": "markdown",
   "metadata": {},
   "source": [
    "**Question 8** Quelle sera la largeur de chaque rectangle ?\n",
    "\n",
    "Quelle sera la hauteur du 2e rectangle ?"
   ]
  },
  {
   "cell_type": "markdown",
   "metadata": {},
   "source": [
    "**Question 9** Copier le code de la question 6 dans la cellule ci-dessous. Modifier le code pour qu'il fasse le calcul avec 10 rectangles.\n",
    "\n",
    "(on doit trouver approximativement 3,18)"
   ]
  },
  {
   "cell_type": "code",
   "execution_count": null,
   "metadata": {},
   "outputs": [],
   "source": [
    "# Code de la question 6 à copier et modifier."
   ]
  },
  {
   "cell_type": "markdown",
   "metadata": {},
   "source": [
    "## 4. Majoration en utilisant des rectangles\n",
    "\n",
    "On admet que l'aire $A$ est **inférieure** à l'aire des dix rectangles représentés ci-dessous.\n",
    "\n",
    "![Minoration](Int3.png)\n",
    "\n",
    "On admet que le code suivant donne l'aire des rectangles."
   ]
  },
  {
   "cell_type": "code",
   "execution_count": null,
   "metadata": {},
   "outputs": [],
   "source": [
    "T = 0\n",
    "for i in range(1,11):\n",
    "    x = 1 + i*0.2\n",
    "    T = T + f(x)*0.2\n",
    "print(T)"
   ]
  },
  {
   "cell_type": "markdown",
   "metadata": {},
   "source": [
    "**Question 10** Donner un encadrement de l'aire $A$."
   ]
  }
 ],
 "metadata": {
  "kernelspec": {
   "display_name": "Python 3",
   "language": "python",
   "name": "python3"
  },
  "language_info": {
   "codemirror_mode": {
    "name": "ipython",
    "version": 3
   },
   "file_extension": ".py",
   "mimetype": "text/x-python",
   "name": "python",
   "nbconvert_exporter": "python",
   "pygments_lexer": "ipython3",
   "version": "3.7.1"
  }
 },
 "nbformat": 4,
 "nbformat_minor": 2
}
